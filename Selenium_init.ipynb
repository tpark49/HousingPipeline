{
 "cells": [
  {
   "cell_type": "code",
   "execution_count": null,
   "id": "042ee684",
   "metadata": {},
   "outputs": [],
   "source": [
    "%sh \n",
    "mkdir /dbfs/init/\n",
    "cat > /dbfs/init/init_selenium.sh <<EOF\n",
    "wget -N \"https://chromedriver.storage.googleapis.com/96.0.4664.45/chromedriver_linux64.zip\" -O /tmp/chromedriver.zip\n",
    "unzip /tmp/chromedriver.zip -d /tmp/chromedriver/\n",
    "sudo curl -sS -o - https://dl-ssl.google.com/linux/linux_signing_key.pub | apt-key add\n",
    "sudo echo \"deb https://dl.google.com/linux/chrome/deb/ stable main\" >> /etc/apt/sources.list.d/google-chrome.list\n",
    "sudo apt-get -y update\n",
    "sudo apt-get -y install google-chrome-stable\n",
    "wget https://dl.google.com/linux/direct/google-chrome-stable_current_amd64.deb\n",
    "sudo dpkg -i google-chrome-stable_current_amd64.deb \n",
    "pip install selenium\n",
    "EOF"
   ]
  }
 ],
 "metadata": {
  "kernelspec": {
   "display_name": "Python 3 (ipykernel)",
   "language": "python",
   "name": "python3"
  },
  "language_info": {
   "codemirror_mode": {
    "name": "ipython",
    "version": 3
   },
   "file_extension": ".py",
   "mimetype": "text/x-python",
   "name": "python",
   "nbconvert_exporter": "python",
   "pygments_lexer": "ipython3",
   "version": "3.7.3"
  }
 },
 "nbformat": 4,
 "nbformat_minor": 5
}
