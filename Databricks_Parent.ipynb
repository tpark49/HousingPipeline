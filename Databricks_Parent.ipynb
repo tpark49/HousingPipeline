{
 "cells": [
  {
   "cell_type": "code",
   "execution_count": null,
   "id": "88f22793",
   "metadata": {},
   "outputs": [],
   "source": [
    "#distribute to multiple nodes\n",
    "from concurrent.futures import ThreadPoolExecutor, ProcessPoolExecutor \n",
    "from multiprocessing.pool import ThreadPool\n",
    "import pandas as pd\n",
    "import numpy as np\n",
    "from datetime import datetime"
   ]
  },
  {
   "cell_type": "code",
   "execution_count": null,
   "id": "f41045e7",
   "metadata": {},
   "outputs": [],
   "source": [
    "#extract inputs \n",
    "parent_batch = int(dbutils.widgets.get(\"parent_batch\"))\n"
   ]
  },
  {
   "cell_type": "code",
   "execution_count": null,
   "id": "52ad29c1",
   "metadata": {},
   "outputs": [],
   "source": [
    "#parition into 5 partitions \n",
    "zipcode = pd.read_csv(\"/dbfs/FileStore/ZipCodes_Redfin_Scraper.csv\")\n",
    "\n",
    "unique_zipcodes = [str(i) for i in zipcode[\"ZipCode\"].unique()][:1000]\n",
    "\n",
    "batch_zipcodes = np.array_split(unique_zipcodes, 3)\n",
    "\n",
    "result = np.array_split(batch_zipcodes[parent_batch], 3)\n",
    "\n",
    "list_of_batches = [result[0], result[1], result[2]]\n",
    "\n",
    "final_list = [\",\".join(i) for i in list_of_batches]\n",
    "argument_list = []\n",
    "for i in range(len(final_list)):\n",
    "    argument_list.append((final_list[i], i, parent_batch))\n",
    "    "
   ]
  },
  {
   "cell_type": "code",
   "execution_count": null,
   "id": "9e31c214",
   "metadata": {},
   "outputs": [],
   "source": [
    "def processNotebook(list_of_zipcodes, batch_number, parent_batch):\n",
    "    dbutils.notebook.run(\n",
    "        path = \"/Shared/test/test_tony\",\n",
    "        timeout_seconds = 86400,\n",
    "        arguments = {\n",
    "            \"list_of_zipcode\":list_of_zipcodes,\n",
    "            \"batch_number\":batch_number, \n",
    "            \"parent_number\": parent_batch\n",
    "                    }\n",
    "    )\n",
    "    \n",
    "def helper(numbers):\n",
    "    processNotebook(numbers[0], numbers[1], numbers[2])"
   ]
  },
  {
   "cell_type": "code",
   "execution_count": null,
   "id": "d2f452d0",
   "metadata": {},
   "outputs": [],
   "source": [
    "with ThreadPoolExecutor() as executor:\n",
    "    for _ in executor.map(helper, argument_list):\n",
    "        pass"
   ]
  },
  {
   "cell_type": "code",
   "execution_count": null,
   "id": "4d1293a2",
   "metadata": {},
   "outputs": [],
   "source": [
    "# %py \n",
    "\n",
    "# import pandas as pd\n",
    "\n",
    "# columns = fieldnames = [\n",
    "#             \"address\",\n",
    "#             \"State_zipcode\",\n",
    "#             \"last_checked\",\n",
    "#             \"last_updated\",\n",
    "#             \"price\",\n",
    "#             \"bed\", \n",
    "#             \"bath\",\n",
    "#             \"square_footage\",\n",
    "#             \"description\",\n",
    "#             \"status\",\n",
    "#             \"time_on_redfin\",\n",
    "#             \"property_type\",\n",
    "#             \"HOA_dues\",\n",
    "#             \"commission\",\n",
    "#             \"year_built\",\n",
    "#             \"community\",\n",
    "#             \"lot_size\",\n",
    "#             \"MLS\",\n",
    "#             \"list_price\",\n",
    "#             \"ppsf\",\n",
    "#             \"redfin_est\",\n",
    "#             \"style\",\n",
    "#             \"lat\",\n",
    "#             \"long\",\n",
    "#             \"agent_name\",\n",
    "#             \"agent_company\",\n",
    "                    \n",
    "# #                     \"school_name\": school_name, \n",
    "# #                     \"school_review\": school_review,\n",
    "# #                     \"school_num_students\": school_num_students,\n",
    "#             \"url\"\n",
    "#                      ]\n",
    "\n",
    "# df = pd.read_csv(\n",
    "#     \"/tmp/2021-12-13.csv\",\n",
    "#     names=columns\n",
    "#                 )"
   ]
  },
  {
   "cell_type": "code",
   "execution_count": null,
   "id": "4ab7d196",
   "metadata": {},
   "outputs": [],
   "source": []
  }
 ],
 "metadata": {
  "kernelspec": {
   "display_name": "Python 3 (ipykernel)",
   "language": "python",
   "name": "python3"
  },
  "language_info": {
   "codemirror_mode": {
    "name": "ipython",
    "version": 3
   },
   "file_extension": ".py",
   "mimetype": "text/x-python",
   "name": "python",
   "nbconvert_exporter": "python",
   "pygments_lexer": "ipython3",
   "version": "3.7.3"
  }
 },
 "nbformat": 4,
 "nbformat_minor": 5
}
