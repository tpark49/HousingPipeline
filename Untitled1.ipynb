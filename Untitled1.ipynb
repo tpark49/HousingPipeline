{
 "cells": [
  {
   "cell_type": "code",
   "execution_count": 13,
   "id": "1a3a19d9",
   "metadata": {},
   "outputs": [],
   "source": [
    "import glob\n",
    "import pandas as pd\n",
    "import os "
   ]
  },
  {
   "cell_type": "code",
   "execution_count": 30,
   "id": "dc74adff",
   "metadata": {},
   "outputs": [],
   "source": [
    "zipcodes = pd.read_csv(\"./ZipCodes_Redfin_Scraper.csv\")\n",
    "list_of_zipcodes = list(zipcodes[\"ZipCode\"].unique())"
   ]
  },
  {
   "cell_type": "code",
   "execution_count": 69,
   "id": "52632b37",
   "metadata": {},
   "outputs": [
    {
     "data": {
      "text/plain": [
       "6987"
      ]
     },
     "execution_count": 69,
     "metadata": {},
     "output_type": "execute_result"
    }
   ],
   "source": [
    "len(list_of_zipcodes)"
   ]
  },
  {
   "cell_type": "code",
   "execution_count": 10,
   "id": "42674ef1",
   "metadata": {},
   "outputs": [],
   "source": [
    "list_of_csv = os.listdir(\"./data/\")"
   ]
  },
  {
   "cell_type": "code",
   "execution_count": 31,
   "id": "5464f884",
   "metadata": {},
   "outputs": [],
   "source": [
    "folder_name = 'data'\n",
    "file_type = 'csv'\n",
    "seperator =','\n",
    "dataframe = pd.concat([pd.read_csv(f, sep=seperator) for f in glob.glob(folder_name + \"/*.\"+file_type)],\n",
    "                      ignore_index=True)\n"
   ]
  },
  {
   "cell_type": "code",
   "execution_count": 38,
   "id": "ac1e9e9f",
   "metadata": {},
   "outputs": [],
   "source": [
    "pd.set_option('display.max_columns', 500)"
   ]
  },
  {
   "cell_type": "code",
   "execution_count": 74,
   "id": "f2bbd50d",
   "metadata": {},
   "outputs": [],
   "source": [
    "columns = [\"address\",\n",
    "           'State_zipcode', \n",
    "           'price',\n",
    "           \"bed\",\n",
    "           \"bath\",\n",
    "           \"square_footage\",\n",
    "           \"description\",\n",
    "           \"status\",\n",
    "           \"time_on_redfin\",\n",
    "           \"property_type\",\n",
    "           \"HOA_dues\",\n",
    "           \"year_built\",\n",
    "           \"community\",\n",
    "           \"lot_size\",\n",
    "           \"MLS\",\n",
    "           \"list_price\",\n",
    "           \"ppsf\",\n",
    "           \"redfin_est\",\n",
    "           \"style\",\n",
    "           \"lat\",\n",
    "           \"long\",\n",
    "           \"agent_name\",\n",
    "           \"agent_company\", \n",
    "          \"url\",\n",
    "          \"school_name\",\n",
    "          \"school_review\",\n",
    "          \"school_num_students\"]"
   ]
  },
  {
   "cell_type": "code",
   "execution_count": 77,
   "id": "4897f85b",
   "metadata": {
    "scrolled": true
   },
   "outputs": [],
   "source": [
    "df = pd.read_csv(\"./sample.csv\", names = columns, header=None, index_col=None)"
   ]
  }
 ],
 "metadata": {
  "kernelspec": {
   "display_name": "Python 3 (ipykernel)",
   "language": "python",
   "name": "python3"
  },
  "language_info": {
   "codemirror_mode": {
    "name": "ipython",
    "version": 3
   },
   "file_extension": ".py",
   "mimetype": "text/x-python",
   "name": "python",
   "nbconvert_exporter": "python",
   "pygments_lexer": "ipython3",
   "version": "3.7.3"
  }
 },
 "nbformat": 4,
 "nbformat_minor": 5
}
